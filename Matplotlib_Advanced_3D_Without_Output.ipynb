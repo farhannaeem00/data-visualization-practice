{
 "cells": [
  {
   "cell_type": "markdown",
   "id": "c08d6366-edcd-48f7-a595-6533159327d1",
   "metadata": {},
   "source": [
    "# Importing Important Libraries"
   ]
  },
  {
   "cell_type": "code",
   "execution_count": null,
   "id": "cb0944be-9a43-47f3-9207-431c2310bda2",
   "metadata": {},
   "outputs": [],
   "source": [
    "import pandas as pd\n",
    "import numpy as np\n",
    "from matplotlib import pyplot as plt\n",
    "import seaborn as sb\n",
    "from sklearn.datasets import load_iris"
   ]
  },
  {
   "cell_type": "code",
   "execution_count": null,
   "id": "db12316b-0069-4f47-b07a-ebd38bf8bc31",
   "metadata": {},
   "outputs": [],
   "source": [
    "iris = load_iris()"
   ]
  },
  {
   "cell_type": "code",
   "execution_count": null,
   "id": "ef1d734f-7079-443c-a18c-eb43da2d2a60",
   "metadata": {},
   "outputs": [],
   "source": [
    "data = pd.DataFrame(iris.data,columns = iris.feature_names)\n",
    "data['species'] = iris.target"
   ]
  },
  {
   "cell_type": "code",
   "execution_count": null,
   "id": "8689a848-c765-4950-a5c7-50484fa0f589",
   "metadata": {},
   "outputs": [],
   "source": [
    "data.head()"
   ]
  },
  {
   "cell_type": "markdown",
   "id": "c096f3a3-0cba-434a-a8fd-30a2bffe4b7e",
   "metadata": {},
   "source": [
    "# Colored Scatterplot"
   ]
  },
  {
   "cell_type": "code",
   "execution_count": null,
   "id": "c2261ec3-b3d8-4fc6-ae13-5a8cfba19f17",
   "metadata": {},
   "outputs": [],
   "source": [
    "## to contol colors just use cmap and provide, jet,summer,winter,etc \n",
    "## for opacity use alpha, lie between 0 and 1\n",
    "plt.scatter(data['sepal length (cm)'],data['petal length (cm)'],c=data['species'],cmap='jet',alpha=0.7)\n",
    "plt.xlabel('Sepal Length')\n",
    "plt.ylabel('Petal Length')\n",
    "plt.title('Sepal And Petal Lengths Correlation')\n",
    "plt.colorbar()"
   ]
  },
  {
   "cell_type": "markdown",
   "id": "c33c736a-2954-4338-a892-4764b9310dd6",
   "metadata": {},
   "source": [
    "# Plot Size"
   ]
  },
  {
   "cell_type": "markdown",
   "id": "ac0bb696-8cc5-4397-afc3-e604d9ce9fc7",
   "metadata": {},
   "source": [
    "## to increase and decrease the graph size "
   ]
  },
  {
   "cell_type": "code",
   "execution_count": null,
   "id": "9393147d-9a89-466c-99f6-289ffb84e39a",
   "metadata": {},
   "outputs": [],
   "source": [
    "plt.figure(figsize=(15,7))\n",
    "plt.scatter(data['sepal length (cm)'],data['petal length (cm)'],c=data['species'],cmap='jet',alpha=0.7)\n",
    "plt.xlabel('Sepal Length')\n",
    "plt.ylabel('Petal Length')\n",
    "plt.title('Sepal And Petal Lengths Correlation')\n",
    "plt.colorbar()"
   ]
  },
  {
   "cell_type": "markdown",
   "id": "390e73f5-a2d0-45be-87fb-4343ca92ac08",
   "metadata": {},
   "source": [
    "# Annotations"
   ]
  },
  {
   "cell_type": "markdown",
   "id": "7c5e4477-0145-41b9-8df8-3aac3cbffbf1",
   "metadata": {},
   "source": [
    "## we can place text on our scatter plot by using annotation, when we plot scatter plot we dont know which dot represent the which quantity, person,place or anything on which we are plotting the scatter plot, to overcome this issue we use annotation, given below a dataset on which we will apply annotation"
   ]
  },
  {
   "cell_type": "code",
   "execution_count": null,
   "id": "ff905778-d923-4166-a910-d86dee2b0df9",
   "metadata": {},
   "outputs": [],
   "source": [
    "batsman = pd.read_csv('../Datasets/batter (1).csv')"
   ]
  },
  {
   "cell_type": "code",
   "execution_count": null,
   "id": "ed6adf54-de85-4e5b-8c73-6657a8c92039",
   "metadata": {},
   "outputs": [],
   "source": [
    "batsman"
   ]
  },
  {
   "cell_type": "code",
   "execution_count": null,
   "id": "c42f6b95-3920-44d9-a666-78a2ba4d1db2",
   "metadata": {},
   "outputs": [],
   "source": [
    "sample_data = batsman.head(100).sample(25,random_state=5)"
   ]
  },
  {
   "cell_type": "code",
   "execution_count": null,
   "id": "77dfa448-3bea-40c7-a653-a9ffb4baec6e",
   "metadata": {},
   "outputs": [],
   "source": [
    "sample_data"
   ]
  },
  {
   "cell_type": "code",
   "execution_count": null,
   "id": "fe57309b-e94a-4746-9576-47132aa4221a",
   "metadata": {},
   "outputs": [],
   "source": [
    "plt.figure(figsize=(15,7))\n",
    "plt.scatter(sample_data['avg'],sample_data['strike_rate'],s=sample_data['runs'])\n",
    "for i in range(sample_data.shape[0]):\n",
    "    plt.text(sample_data['avg'].values[i],sample_data['strike_rate'].values[i],sample_data['batter'].values[i])"
   ]
  },
  {
   "cell_type": "markdown",
   "id": "5fab69be-95c3-41f2-ae2a-f00a474e0518",
   "metadata": {},
   "source": [
    "# Horizontal And Vertical Lines"
   ]
  },
  {
   "cell_type": "code",
   "execution_count": null,
   "id": "d8c20db7-0391-4b4b-9983-3e0c09c1c94a",
   "metadata": {},
   "outputs": [],
   "source": [
    "plt.figure(figsize=(15,7))\n",
    "plt.scatter(sample_data['avg'],sample_data['strike_rate'],s=sample_data['runs'])\n",
    "plt.axhline(130,color='red')\n",
    "plt.axhline(140,color='green')\n",
    "plt.axvline(30,color='red')\n",
    "for i in range(sample_data.shape[0]):\n",
    "    plt.text(sample_data['avg'].values[i],sample_data['strike_rate'].values[i],sample_data['batter'].values[i])"
   ]
  },
  {
   "cell_type": "markdown",
   "id": "3268bc08-69c0-46f6-9e9f-106408bfec57",
   "metadata": {},
   "source": [
    "# A diffy way to plot graphs"
   ]
  },
  {
   "cell_type": "markdown",
   "id": "a9e22b28-e95b-4b54-9309-96a4baa2eed2",
   "metadata": {},
   "source": [
    "## Plotting multiple plots at a time"
   ]
  },
  {
   "cell_type": "code",
   "execution_count": null,
   "id": "ee3cd817-41ee-49f7-8013-6555952427e9",
   "metadata": {},
   "outputs": [],
   "source": [
    "# figure , ax = plt.subplots()\n",
    "# ax.scatter(batsman['avg'],batsman['strike_rate'])\n",
    "# figure , ax = plt.subplots(figsize=(15,7))\n",
    "# ax.scatter(batsman['avg'],batsman['strike_rate'])\n",
    "# ax.set_title('s...')\n",
    "# ax.set_xlabel('...')\n",
    "# ax.set_ylabel('...')\n",
    "# figure.show()\n"
   ]
  },
  {
   "cell_type": "code",
   "execution_count": null,
   "id": "61ce76e6-996b-4c56-8c50-1c351b5c6d97",
   "metadata": {},
   "outputs": [],
   "source": [
    "fig, ax = plt.subplots(nrows=2,ncols=1,sharex=True)\n",
    "\n",
    "ax[0].scatter(batsman['avg'],batsman['strike_rate'])\n",
    "ax[1].scatter(batsman['avg'], batsman['runs'])\n",
    "\n",
    "ax[0].set_title('Avg vs SR')\n",
    "ax[0].set_ylabel('SR')\n",
    "\n",
    "ax[1].set_title('Avg vs Runs')\n",
    "ax[1].set_xlabel('Avg')\n",
    "ax[1].set_ylabel('Runs')"
   ]
  },
  {
   "cell_type": "code",
   "execution_count": null,
   "id": "a0c4dd07-b3d3-4700-b9c3-ac6aedd733a3",
   "metadata": {},
   "outputs": [],
   "source": [
    "fig, ax = plt.subplots(nrows=2,ncols=2,figsize=(10,10))\n",
    "\n",
    "ax[0,0].scatter(batsman['avg'],batsman['strike_rate'])\n",
    "ax[0,1].scatter(batsman['avg'], batsman['runs'])\n",
    "ax[1,0].hist(batsman['avg'])\n",
    "ax[1,1].hist(batsman['runs'])\n",
    "\n",
    "# ax[0].set_title('Avg vs SR')\n",
    "# ax[0].set_ylabel('SR')\n",
    "\n",
    "# ax[1].set_title('Avg vs Runs')\n",
    "# ax[1].set_xlabel('Avg')\n",
    "# ax[1].set_ylabel('Runs')"
   ]
  },
  {
   "cell_type": "markdown",
   "id": "8b102b79-20ed-448a-9f23-1ac6fd5b1b00",
   "metadata": {},
   "source": [
    "## Another way to plot mutiple graphs"
   ]
  },
  {
   "cell_type": "code",
   "execution_count": null,
   "id": "9c13a8d2-9cb4-49a1-97b3-5fb2393449fa",
   "metadata": {},
   "outputs": [],
   "source": [
    "fig = plt.figure() \n",
    "ax1 = fig.add_subplot(211) #-> 2 row, 1 column and 1st graph = 211 or 2,1,1\n",
    "ax1.scatter(batsman['avg'],batsman['strike_rate'])\n",
    "ax2 = fig.add_subplot(212)\n",
    "ax2.scatter(batsman['avg'], batsman['runs'])"
   ]
  },
  {
   "cell_type": "markdown",
   "id": "919f8fc1-6cc4-4849-9ec6-7fa713752fe6",
   "metadata": {},
   "source": [
    "# 3-D Plots or Graphs"
   ]
  },
  {
   "cell_type": "markdown",
   "id": "cfefb7ff-cec9-47b8-a481-62395ed343da",
   "metadata": {},
   "source": [
    "## 3-D Scatter Plot"
   ]
  },
  {
   "cell_type": "code",
   "execution_count": null,
   "id": "474c6453-45fd-469d-a162-6c93e571177f",
   "metadata": {},
   "outputs": [],
   "source": [
    "batsman"
   ]
  },
  {
   "cell_type": "code",
   "execution_count": null,
   "id": "a82f0723-25af-4e34-86bf-26b34840bdb7",
   "metadata": {},
   "outputs": [],
   "source": [
    "figure = plt.figure(figsize=(15,7))\n",
    "ax = plt.subplot(projection='3d')\n",
    "\n",
    "ax.scatter3D(batsman['runs'],batsman['avg'],batsman['strike_rate'])\n",
    "ax.set_title('IPL Batsman Analysis')\n",
    "\n",
    "ax.set_xlabel('Runs')\n",
    "ax.set_ylabel('Average')\n",
    "ax.set_zlabel('Strike Rate')"
   ]
  },
  {
   "cell_type": "markdown",
   "id": "ae6eebab-42f9-4850-ad6c-8333cf4d3229",
   "metadata": {},
   "source": [
    "# 3-D Line Plot"
   ]
  },
  {
   "cell_type": "code",
   "execution_count": null,
   "id": "1d68fd78-028f-443f-bd5c-cdceec449de7",
   "metadata": {},
   "outputs": [],
   "source": [
    "x = [0,1,5,25]\n",
    "y = [0,10,13,0]\n",
    "z = [0,13,20,9]\n",
    "\n",
    "figure = plt.figure(figsize=(15,7))\n",
    "ax = plt.subplot(projection='3d')\n",
    "\n",
    "ax.scatter3D(x,y,z,s=[100,100,100,100])\n",
    "ax.plot3D(x,y,z,color='red')"
   ]
  },
  {
   "cell_type": "markdown",
   "id": "0a7aac70-8a61-4857-998f-dc2438e501c7",
   "metadata": {},
   "source": [
    "# 3D Surface Plot"
   ]
  },
  {
   "cell_type": "code",
   "execution_count": null,
   "id": "9520c601-b473-4ea3-83de-e063ba2e322b",
   "metadata": {},
   "outputs": [],
   "source": [
    "x = np.linspace(-10,10,100)\n",
    "y = np.linspace(-10,10,100)\n",
    "\n"
   ]
  },
  {
   "cell_type": "code",
   "execution_count": null,
   "id": "668ca250-614e-4adf-84b6-34eca61b6c32",
   "metadata": {},
   "outputs": [],
   "source": [
    "xx,yy = np.meshgrid(x,y)"
   ]
  },
  {
   "cell_type": "code",
   "execution_count": null,
   "id": "a8ac1bfb-e61e-48be-a78e-f370b4a6d72c",
   "metadata": {},
   "outputs": [],
   "source": [
    "xx"
   ]
  },
  {
   "cell_type": "code",
   "execution_count": null,
   "id": "45141eaf-e3d3-439b-9d73-fe1ef71c0f58",
   "metadata": {},
   "outputs": [],
   "source": [
    "yy"
   ]
  },
  {
   "cell_type": "code",
   "execution_count": null,
   "id": "8b3bba7e-1550-44c2-9aac-e8952f02f5e7",
   "metadata": {},
   "outputs": [],
   "source": [
    "xx.shape"
   ]
  },
  {
   "cell_type": "code",
   "execution_count": null,
   "id": "95631f49-c590-4250-aa87-7fb16e4eb229",
   "metadata": {},
   "outputs": [],
   "source": [
    "yy.shape"
   ]
  },
  {
   "cell_type": "code",
   "execution_count": null,
   "id": "d0b8047f-6c21-41eb-a81e-d8d6f269645d",
   "metadata": {},
   "outputs": [],
   "source": [
    "z = xx**2 + yy**2"
   ]
  },
  {
   "cell_type": "code",
   "execution_count": null,
   "id": "0d85b024-bc33-429d-aff3-f03c840fa53f",
   "metadata": {},
   "outputs": [],
   "source": [
    "z.shape"
   ]
  },
  {
   "cell_type": "code",
   "execution_count": null,
   "id": "03418bd2-7c0b-47f7-b8ce-90330258fab3",
   "metadata": {},
   "outputs": [],
   "source": [
    "fig = plt.figure(figsize=(12,8))\n",
    "\n",
    "ax = plt.subplot(projection='3d')\n",
    "p = ax.plot_surface(xx,yy,z,cmap='viridis')\n",
    "\n",
    "fig.colorbar(p)\n"
   ]
  },
  {
   "cell_type": "code",
   "execution_count": null,
   "id": "4e703a0d-cc12-456f-b785-5ab17f8d02d9",
   "metadata": {},
   "outputs": [],
   "source": [
    "z = np.sin(xx) + np.cos(yy)\n",
    "fig = plt.figure(figsize=(12,8))\n",
    "\n",
    "ax = plt.subplot(projection='3d')\n",
    "p = ax.plot_surface(xx,yy,z,cmap='viridis')\n",
    "\n",
    "fig.colorbar(p)"
   ]
  },
  {
   "cell_type": "code",
   "execution_count": null,
   "id": "1c1aa2d0-4666-45d8-8656-a74f1f44c954",
   "metadata": {},
   "outputs": [],
   "source": [
    "z = np.sin(xx)**2 + np.cos(yy)**2\n",
    "fig = plt.figure(figsize=(12,8))\n",
    "\n",
    "ax = plt.subplot(projection='3d')\n",
    "p = ax.plot_surface(xx,yy,z,cmap='viridis')\n",
    "\n",
    "fig.colorbar(p)"
   ]
  },
  {
   "cell_type": "code",
   "execution_count": null,
   "id": "3b4591bd-58a9-4efc-bbbf-79840b50826e",
   "metadata": {},
   "outputs": [],
   "source": [
    "z = np.sin(xx) + np.log(yy)\n",
    "fig = plt.figure(figsize=(12,8))\n",
    "\n",
    "ax = plt.subplot(projection='3d')\n",
    "p = ax.plot_surface(xx,yy,z,cmap='viridis')\n",
    "\n",
    "fig.colorbar(p)"
   ]
  },
  {
   "cell_type": "markdown",
   "id": "cf5111a4-5080-4c5d-990e-21d0a0cf0c29",
   "metadata": {},
   "source": [
    "# Contour Plot"
   ]
  },
  {
   "cell_type": "code",
   "execution_count": null,
   "id": "b2a59d57-c975-4500-9d3a-e6b55f9d1c89",
   "metadata": {},
   "outputs": [],
   "source": [
    "z = xx**2 + yy**2\n",
    "fig = plt.figure(figsize=(12,8))\n",
    "\n",
    "ax = plt.subplot(projection='3d')\n",
    "p = ax.plot_surface(xx,yy,z,cmap='viridis')\n",
    "\n",
    "fig.colorbar(p)\n"
   ]
  },
  {
   "cell_type": "code",
   "execution_count": null,
   "id": "e57d4b29-22ae-4ce5-829c-7b418be1baf4",
   "metadata": {},
   "outputs": [],
   "source": [
    "z = xx**2 + yy**2\n",
    "fig = plt.figure(figsize=(12,8))\n",
    "\n",
    "ax = plt.subplot()\n",
    "p = ax.contour(xx,yy,z,cmap='viridis')\n",
    "\n",
    "fig.colorbar(p)\n"
   ]
  },
  {
   "cell_type": "code",
   "execution_count": null,
   "id": "157ce6a5-d05d-438a-9198-3a54f37e9de9",
   "metadata": {},
   "outputs": [],
   "source": [
    "### contour fill\n",
    "z = xx**2 + yy**2\n",
    "fig = plt.figure(figsize=(12,8))\n",
    "\n",
    "ax = plt.subplot()\n",
    "p = ax.contourf(xx,yy,z,cmap='viridis')\n",
    "\n",
    "fig.colorbar(p)\n"
   ]
  },
  {
   "cell_type": "code",
   "execution_count": null,
   "id": "2dc47df3-842a-404f-a0cf-2d8c273b9296",
   "metadata": {},
   "outputs": [],
   "source": [
    "z = np.sin(xx) + np.cos(yy)\n",
    "fig = plt.figure(figsize=(12,8))\n",
    "\n",
    "ax = plt.subplot()\n",
    "p = ax.contourf(xx,yy,z,cmap='viridis')\n",
    "\n",
    "fig.colorbar(p)"
   ]
  },
  {
   "cell_type": "markdown",
   "id": "97d59c56-894f-4267-8e84-690eecbe018e",
   "metadata": {},
   "source": [
    "# Heatmap\n"
   ]
  },
  {
   "cell_type": "code",
   "execution_count": null,
   "id": "d887e909-e486-4ed5-8ac9-f82dcf35f986",
   "metadata": {},
   "outputs": [],
   "source": [
    "delivery = pd.read_csv('../Datasets/IPL_Ball_by_Ball_2008_2022.csv')"
   ]
  },
  {
   "cell_type": "code",
   "execution_count": null,
   "id": "e67888fd-27d4-47f2-a779-8f464c67c7e4",
   "metadata": {},
   "outputs": [],
   "source": [
    "delivery.head()"
   ]
  },
  {
   "cell_type": "code",
   "execution_count": null,
   "id": "af970b65-613f-4855-b153-14970055ba6a",
   "metadata": {},
   "outputs": [],
   "source": [
    "temp_data = delivery[(delivery['ballnumber'].isin([1,2,3,4,5,6])) & (delivery['batsman_run']==6)]"
   ]
  },
  {
   "cell_type": "code",
   "execution_count": null,
   "id": "13c6d222-3a66-4ced-a8ea-428888101b76",
   "metadata": {},
   "outputs": [],
   "source": [
    "grid = temp_data.pivot_table(index='overs',columns='ballnumber',values='batsman_run',aggfunc='count')"
   ]
  },
  {
   "cell_type": "code",
   "execution_count": null,
   "id": "c7599d6c-8b7a-44c4-ade3-5a7eb566596f",
   "metadata": {},
   "outputs": [],
   "source": [
    "plt.figure(figsize=(20,20))\n",
    "plt.imshow(grid)\n",
    "plt.yticks(delivery['overs'].unique(),list(range(1,21)))\n",
    "plt.xticks(np.arange(1,7),list(range(1,7)))\n",
    "plt.colorbar()"
   ]
  },
  {
   "cell_type": "markdown",
   "id": "6ac2d3bb-6b0f-4cac-acb9-7a19544e236c",
   "metadata": {},
   "source": [
    "# DataFrame Plot Function\n"
   ]
  },
  {
   "cell_type": "markdown",
   "id": "061b1dd6-85da-4142-aa93-fd689acfe1dc",
   "metadata": {},
   "source": [
    "# Pandas Plot"
   ]
  },
  {
   "cell_type": "code",
   "execution_count": null,
   "id": "a458eca8-702f-4d18-8233-ff8e6abeba5a",
   "metadata": {},
   "outputs": [],
   "source": [
    "tips = sb.load_dataset('tips')"
   ]
  },
  {
   "cell_type": "code",
   "execution_count": null,
   "id": "9f4352d8-1ce5-426c-a58c-546235c1a9c9",
   "metadata": {},
   "outputs": [],
   "source": [
    "tips.head()"
   ]
  },
  {
   "cell_type": "code",
   "execution_count": null,
   "id": "10353a2c-fc92-4e44-a496-b5de232e34c1",
   "metadata": {},
   "outputs": [],
   "source": [
    "tips['size'] = tips['size']*100"
   ]
  },
  {
   "cell_type": "code",
   "execution_count": null,
   "id": "c26c38cd-dac5-4eb8-9a94-3a755402fa36",
   "metadata": {},
   "outputs": [],
   "source": [
    "tips.head()"
   ]
  },
  {
   "cell_type": "markdown",
   "id": "4d5ecd4b-b022-4685-9d80-c82d0b163db8",
   "metadata": {},
   "source": [
    "## scatter plot -> labels -> markers -> figsize -> color -> cmap"
   ]
  },
  {
   "cell_type": "code",
   "execution_count": null,
   "id": "5019a563-78f2-47ab-ab5f-e2d3ab95a5f5",
   "metadata": {},
   "outputs": [],
   "source": [
    "## 2D plot\n",
    "tips.plot(kind='scatter',x='total_bill',y='tip',title='cost analysis',marker='+',figsize=(10,6),s='size',c='sex',cmap='viridis')"
   ]
  },
  {
   "cell_type": "code",
   "execution_count": null,
   "id": "6c11a84b-9c80-4918-acf4-5758e21aa764",
   "metadata": {},
   "outputs": [],
   "source": [
    "stock = pd.read_csv('https://raw.githubusercontent.com/m-mehdi/pandas_tutorials/main/weekly_stocks.csv')"
   ]
  },
  {
   "cell_type": "code",
   "execution_count": null,
   "id": "e5d633f3-bce0-4fa6-8ee6-6bcfdd9ebb93",
   "metadata": {},
   "outputs": [],
   "source": [
    "stock"
   ]
  },
  {
   "cell_type": "markdown",
   "id": "845aac16-b232-4d73-a6b8-72e186fcaa7a",
   "metadata": {},
   "source": [
    "## line Plot using pandas plot function\n"
   ]
  },
  {
   "cell_type": "code",
   "execution_count": null,
   "id": "851c66a3-8806-4799-9ed1-7318f498a013",
   "metadata": {},
   "outputs": [],
   "source": [
    "stock['MSFT'].plot(kind='line')"
   ]
  },
  {
   "cell_type": "code",
   "execution_count": null,
   "id": "4a3dd931-115e-4be5-84cd-2a392e008599",
   "metadata": {},
   "outputs": [],
   "source": [
    "stock.plot(kind='line',x='Date')"
   ]
  },
  {
   "cell_type": "code",
   "execution_count": null,
   "id": "e0252595-9efd-4b77-bb64-acdfaaaa4a2c",
   "metadata": {},
   "outputs": [],
   "source": [
    "stock[['Date','MSFT','FB']].plot(kind='line',x='Date')"
   ]
  },
  {
   "cell_type": "markdown",
   "id": "71f87647-fd65-4d99-87eb-b4ea3b4f7611",
   "metadata": {},
   "source": [
    "## Bar Chart"
   ]
  },
  {
   "cell_type": "code",
   "execution_count": null,
   "id": "fe902720-4cff-465f-a9ff-1b0ffbc37614",
   "metadata": {},
   "outputs": [],
   "source": [
    "## single bar chart\n",
    "tips.groupby('sex')['total_bill'].mean().plot(kind='bar')"
   ]
  },
  {
   "cell_type": "code",
   "execution_count": null,
   "id": "d13042e7-cede-4b9d-94c4-0ffcd444e661",
   "metadata": {},
   "outputs": [],
   "source": [
    "batsman.head()"
   ]
  },
  {
   "cell_type": "code",
   "execution_count": null,
   "id": "15e43710-a2c1-4201-a0c0-5e183908057a",
   "metadata": {},
   "outputs": [],
   "source": [
    "betters = pd.read_csv('../Datasets/batsman_season_record.csv')\n"
   ]
  },
  {
   "cell_type": "code",
   "execution_count": null,
   "id": "a8848ca1-0cc4-4c86-9d94-622984f338a4",
   "metadata": {},
   "outputs": [],
   "source": [
    "betters"
   ]
  },
  {
   "cell_type": "code",
   "execution_count": null,
   "id": "edb37440-7c4d-4a7a-8082-a53a770a8887",
   "metadata": {},
   "outputs": [],
   "source": [
    "betters['2015'].plot(kind='bar')"
   ]
  },
  {
   "cell_type": "code",
   "execution_count": null,
   "id": "b12dd7e6-7061-4065-9534-72a1dd802840",
   "metadata": {},
   "outputs": [],
   "source": [
    "betters.head()"
   ]
  },
  {
   "cell_type": "markdown",
   "id": "c590433c-66af-4444-bb70-0eb5bfc99ec9",
   "metadata": {},
   "source": [
    "## Stacked Bar Chart"
   ]
  },
  {
   "cell_type": "code",
   "execution_count": null,
   "id": "1a5db53f-1f8d-4595-be9d-c7894f38c9be",
   "metadata": {},
   "outputs": [],
   "source": [
    "betters.plot(kind='bar',stacked=True)"
   ]
  },
  {
   "cell_type": "markdown",
   "id": "06be1312-ddc0-43f7-abbd-3fc55e654e65",
   "metadata": {},
   "source": [
    "## Histogram"
   ]
  },
  {
   "cell_type": "code",
   "execution_count": null,
   "id": "da8f1ab6-d0e0-4bb4-b999-d4b958cee532",
   "metadata": {},
   "outputs": [],
   "source": [
    "stock[['MSFT','FB']].plot(kind='hist',bins=40)"
   ]
  },
  {
   "cell_type": "code",
   "execution_count": null,
   "id": "f2f9fc6b-8747-45fd-a7d6-1eb5cf709b81",
   "metadata": {},
   "outputs": [],
   "source": [
    "betters.plot(kind='pie',x='batsman',y='2015')"
   ]
  },
  {
   "cell_type": "markdown",
   "id": "6ff0dec2-ee92-4025-99f4-ce1577bc14fd",
   "metadata": {},
   "source": [
    "## Multiple separate graph togther"
   ]
  },
  {
   "cell_type": "code",
   "execution_count": null,
   "id": "0e4b4f15-bdac-4683-8e68-59721d192c8c",
   "metadata": {},
   "outputs": [],
   "source": [
    "stock.plot(kind='line',subplots=True)"
   ]
  },
  {
   "cell_type": "markdown",
   "id": "13af7177-d1fe-4739-87b4-abeb0bcee0f7",
   "metadata": {},
   "source": [
    "## On multiindex dataframe"
   ]
  },
  {
   "cell_type": "code",
   "execution_count": null,
   "id": "32e9ce10-c45d-4588-bd1c-4339653af344",
   "metadata": {},
   "outputs": [],
   "source": [
    "## every kinda bar we can plot insted of pie we should need to subplot=True\n",
    "\n",
    "tips.pivot_table(index=['day','time'],columns=['sex','smoker'],values='total_bill',aggfunc='mean').plot(kind='line')"
   ]
  },
  {
   "cell_type": "code",
   "execution_count": null,
   "id": "b9db2f2b-c0fe-49fd-9847-bb7bc6be5895",
   "metadata": {},
   "outputs": [],
   "source": []
  }
 ],
 "metadata": {
  "kernelspec": {
   "display_name": "Python [conda env:base] *",
   "language": "python",
   "name": "conda-base-py"
  },
  "language_info": {
   "codemirror_mode": {
    "name": "ipython",
    "version": 3
   },
   "file_extension": ".py",
   "mimetype": "text/x-python",
   "name": "python",
   "nbconvert_exporter": "python",
   "pygments_lexer": "ipython3",
   "version": "3.12.7"
  }
 },
 "nbformat": 4,
 "nbformat_minor": 5
}
