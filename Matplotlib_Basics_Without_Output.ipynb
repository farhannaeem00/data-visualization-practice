{
 "cells": [
  {
   "cell_type": "markdown",
   "id": "5d0bcaa3-1b58-4599-bd9e-8fbe30b6e1cf",
   "metadata": {},
   "source": [
    "# Importing important libraries"
   ]
  },
  {
   "cell_type": "code",
   "execution_count": null,
   "id": "64fabec1-307c-4ecf-aae1-388dfd5ba20c",
   "metadata": {},
   "outputs": [],
   "source": [
    "import pandas as pd\n",
    "import numpy as np\n",
    "from matplotlib import pyplot as plt\n",
    "import seaborn as sb\n",
    "plt.style.use('fivethirtyeight')"
   ]
  },
  {
   "cell_type": "markdown",
   "id": "ffcd85f3-301e-49de-8892-0c2fa43040b2",
   "metadata": {},
   "source": [
    "# 2-D Line Plot\n",
    "### 2d line plot use for bi-variate analysis if there are multiple columns then we can apply 2d plot on two columns. We can apply if one is num and other one is also num and we can also apply it if one is num and other one is cat,generally we apply it on time series data.\n"
   ]
  },
  {
   "cell_type": "markdown",
   "id": "94d60146-db72-45bc-8617-6e4e71e9691e",
   "metadata": {},
   "source": [
    "### Ploting simple function"
   ]
  },
  {
   "cell_type": "code",
   "execution_count": null,
   "id": "f08d4c57-ff2e-4bef-8eb7-28b79a1cb60e",
   "metadata": {},
   "outputs": [],
   "source": [
    "price = [48000,54000,57000,49000,47000,45000]\n",
    "year = [2015,2016,2017,2018,2019,2020]\n",
    "\n",
    "plt.plot(year,price)\n",
    "\n"
   ]
  },
  {
   "cell_type": "markdown",
   "id": "1a9c0172-b72a-4bd7-94d8-07ca76af405f",
   "metadata": {},
   "source": [
    "### Ploting on rel world data"
   ]
  },
  {
   "cell_type": "code",
   "execution_count": null,
   "id": "a46addba-0f2a-438b-aa97-8c793f6a40f7",
   "metadata": {},
   "outputs": [],
   "source": [
    "batsman = pd.read_csv('../Datasets/sharma-kohli.csv')"
   ]
  },
  {
   "cell_type": "code",
   "execution_count": null,
   "id": "11e90ec3-59e8-4840-8c5f-67025b849940",
   "metadata": {},
   "outputs": [],
   "source": [
    "batsman"
   ]
  },
  {
   "cell_type": "code",
   "execution_count": null,
   "id": "eb4c9f4c-4588-492c-869b-9f4ddfce150f",
   "metadata": {},
   "outputs": [],
   "source": [
    "plt.plot(batsman['index'],batsman['V Kohli'])"
   ]
  },
  {
   "cell_type": "markdown",
   "id": "7da969f9-4273-4321-aad1-38756f409d5a",
   "metadata": {},
   "source": [
    "### Plotting multiple plots mean comparing "
   ]
  },
  {
   "cell_type": "code",
   "execution_count": null,
   "id": "007044ef-b051-46dc-803c-ceaf10a798b0",
   "metadata": {},
   "outputs": [],
   "source": [
    "plt.plot(batsman['index'],batsman['V Kohli'])\n",
    "plt.plot(batsman['index'],batsman['RG Sharma'])"
   ]
  },
  {
   "cell_type": "markdown",
   "id": "cfbef58d-5613-430f-beb7-75cc01913677",
   "metadata": {},
   "source": [
    "### Labels Title"
   ]
  },
  {
   "cell_type": "code",
   "execution_count": null,
   "id": "789ba0ab-de5f-49a3-88b7-7d1e6cf53633",
   "metadata": {},
   "outputs": [],
   "source": [
    "plt.plot(batsman['index'],batsman['V Kohli'])\n",
    "plt.plot(batsman['index'],batsman['RG Sharma'])\n",
    "plt.title('Rohit Sharma Vs Virat Kohli Career Comparison')\n",
    "plt.xlabel('Season')\n",
    "plt.ylabel('Run Scored')"
   ]
  },
  {
   "cell_type": "markdown",
   "id": "f9648aa1-a9f5-4d3e-906d-2f9675104fff",
   "metadata": {},
   "source": [
    "### Colors(hex) and line(width and style) and marker(size)"
   ]
  },
  {
   "cell_type": "code",
   "execution_count": null,
   "id": "97b6d53a-9032-4a08-b8c6-b9db44e75d37",
   "metadata": {},
   "outputs": [],
   "source": [
    "plt.plot(batsman['index'],batsman['V Kohli'],color='green')\n",
    "plt.plot(batsman['index'],batsman['RG Sharma'],color='black')\n",
    "plt.title('Rohit Sharma Vs Virat Kohli Career Comparison')\n",
    "plt.xlabel('Season')\n",
    "plt.ylabel('Run Scored')"
   ]
  },
  {
   "cell_type": "markdown",
   "id": "0f57a775-37ca-47f0-ae1d-f988decd74c7",
   "metadata": {},
   "source": [
    "### If we want and other thing insead of line then we will use linestyle"
   ]
  },
  {
   "cell_type": "code",
   "execution_count": null,
   "id": "84098b17-0e76-432b-b7dd-7e25061bfe45",
   "metadata": {},
   "outputs": [],
   "source": [
    "# dashed, dotted and dashdot\n",
    "plt.plot(batsman['index'],batsman['V Kohli'],color='green',linestyle='solid',linewidth=3)\n",
    "plt.plot(batsman['index'],batsman['RG Sharma'],color='black',linestyle='solid',linewidth=2)\n",
    "plt.title('Rohit Sharma Vs Virat Kohli Career Comparison')\n",
    "plt.xlabel('Season')\n",
    "plt.ylabel('Run Scored')"
   ]
  },
  {
   "cell_type": "markdown",
   "id": "411c5570-6979-4e31-855d-fe468e2c7e48",
   "metadata": {},
   "source": [
    "### If we want to see marker"
   ]
  },
  {
   "cell_type": "code",
   "execution_count": null,
   "id": "115b8913-b53d-4da7-a2b0-41b78e59e2a9",
   "metadata": {},
   "outputs": [],
   "source": [
    "plt.plot(batsman['index'],batsman['V Kohli'],color='green',linestyle='solid',linewidth=3,marker='o',markersize=10)\n",
    "plt.plot(batsman['index'],batsman['RG Sharma'],color='black',linestyle='solid',linewidth=2,marker='o',markersize=10)\n",
    "plt.title('Rohit Sharma Vs Virat Kohli Career Comparison')\n",
    "plt.xlabel('Season')\n",
    "plt.ylabel('Run Scored')"
   ]
  },
  {
   "cell_type": "markdown",
   "id": "68749b11-4165-4f28-a888-aa1c2c1d405a",
   "metadata": {},
   "source": [
    "### Legend -> Location"
   ]
  },
  {
   "cell_type": "code",
   "execution_count": null,
   "id": "e7cc9787-506e-402f-86a6-307371e143aa",
   "metadata": {},
   "outputs": [],
   "source": [
    "plt.plot(batsman['index'],batsman['V Kohli'],color='green',linestyle='solid',linewidth=3,marker='o',markersize=10,label='Virat')\n",
    "plt.plot(batsman['index'],batsman['RG Sharma'],color='black',linestyle='solid',linewidth=2,marker='o',markersize=10,label='Sharma')\n",
    "plt.title('Rohit Sharma Vs Virat Kohli Career Comparison')\n",
    "plt.xlabel('Season')\n",
    "plt.ylabel('Run Scored')\n",
    "plt.legend(loc='lower right')"
   ]
  },
  {
   "cell_type": "markdown",
   "id": "d9d7bb87-9513-4c11-936d-73a147e23b21",
   "metadata": {},
   "source": [
    "### Limiting Axes"
   ]
  },
  {
   "cell_type": "code",
   "execution_count": null,
   "id": "3136eb2c-671f-406d-8378-d3313430b71d",
   "metadata": {},
   "outputs": [],
   "source": [
    "price = [48000,54000,57000,49000,47000,45000,4500000]\n",
    "year = [2015,2016,2017,2018,2019,2020,2021]\n",
    "\n",
    "plt.plot(year,price)\n",
    "plt.ylim(0,75000)\n",
    "plt.xlim(2017,2019)"
   ]
  },
  {
   "cell_type": "markdown",
   "id": "b379a9b4-f307-445f-96ae-0c3853479474",
   "metadata": {},
   "source": [
    "### If we want to see grid"
   ]
  },
  {
   "cell_type": "code",
   "execution_count": null,
   "id": "f5114676-3d81-40af-8773-6c3f523affa8",
   "metadata": {},
   "outputs": [],
   "source": [
    "plt.plot(batsman['index'],batsman['V Kohli'],color='green',linestyle='solid',linewidth=3,marker='o',markersize=10,label='Virat')\n",
    "plt.plot(batsman['index'],batsman['RG Sharma'],color='black',linestyle='solid',linewidth=2,marker='o',markersize=10,label='Sharma')\n",
    "plt.title('Rohit Sharma Vs Virat Kohli Career Comparison')\n",
    "plt.xlabel('Season')\n",
    "plt.ylabel('Run Scored')\n",
    "plt.legend()\n",
    "plt.grid()"
   ]
  },
  {
   "cell_type": "markdown",
   "id": "03bab3a6-58ed-4894-b72b-11eeedbeeebc",
   "metadata": {},
   "source": [
    "### Another that we call explicitly in pycharm or in another text editors is show()"
   ]
  },
  {
   "cell_type": "markdown",
   "id": "e51d25c9-63b7-49dc-aced-62484ed32309",
   "metadata": {},
   "source": [
    "# Sactter Plot"
   ]
  },
  {
   "cell_type": "markdown",
   "id": "14561cd0-d789-4e9d-807b-ec9e30eb121e",
   "metadata": {},
   "source": [
    "## its just like 2-d plot use for bi-variate, always you can plot it on num vs num only, we can also use it cat vs num and cat vs cat but there will be no logic behind these plots, we use it in finding the correlation between two quantities"
   ]
  },
  {
   "cell_type": "markdown",
   "id": "7e43e221-b543-4783-b4c5-cf34054fc147",
   "metadata": {},
   "source": [
    "### Simple Funcion"
   ]
  },
  {
   "cell_type": "code",
   "execution_count": null,
   "id": "5d651469-b0a7-4d91-87fb-4c03ff138035",
   "metadata": {},
   "outputs": [],
   "source": [
    "x = np.linspace(-10,10,50)\n",
    "y = 10*x + 3 + np.random.randint(0,300,50)"
   ]
  },
  {
   "cell_type": "code",
   "execution_count": null,
   "id": "08594cc0-e688-4a09-9ec5-83379948ca09",
   "metadata": {},
   "outputs": [],
   "source": [
    "plt.scatter(x,y)"
   ]
  },
  {
   "cell_type": "markdown",
   "id": "a59d9194-f10f-4722-b22a-534efa4ccbb5",
   "metadata": {},
   "source": [
    "### Scatter Plot On Proper Data like Real World"
   ]
  },
  {
   "cell_type": "code",
   "execution_count": null,
   "id": "32368cb8-e75e-4482-ab25-8fa74d9753f3",
   "metadata": {},
   "outputs": [],
   "source": [
    "data = pd.read_csv('../Datasets/batter (1).csv')"
   ]
  },
  {
   "cell_type": "code",
   "execution_count": null,
   "id": "177796b2-3bc2-44db-a89d-0a9407aec70b",
   "metadata": {},
   "outputs": [],
   "source": [
    "data1 = data.head(50)"
   ]
  },
  {
   "cell_type": "code",
   "execution_count": null,
   "id": "4f069258-7696-4c81-bfae-634bc67a2368",
   "metadata": {},
   "outputs": [],
   "source": [
    "data1"
   ]
  },
  {
   "cell_type": "code",
   "execution_count": null,
   "id": "ca99dd1e-41fc-43e3-a08b-b664f61c004a",
   "metadata": {},
   "outputs": [],
   "source": [
    "## We can aply all the parameters as we learn abovv....\n",
    "plt.scatter(data1['avg'],data1['strike_rate'],color='red')\n",
    "plt.title('Avg and SR Analysis Of Top 50 Batsman')\n",
    "plt.xlabel('Average')\n",
    "plt.ylabel('Strike Rate')"
   ]
  },
  {
   "cell_type": "markdown",
   "id": "1d3a2c3c-e558-42d6-a98c-3f9810ecd791",
   "metadata": {},
   "source": [
    "### We can control size parameter that is in scatter plot"
   ]
  },
  {
   "cell_type": "code",
   "execution_count": null,
   "id": "e3136147-0bba-4b97-b68a-e8979806d284",
   "metadata": {},
   "outputs": [],
   "source": [
    "tips = sb.load_dataset('tips')"
   ]
  },
  {
   "cell_type": "code",
   "execution_count": null,
   "id": "d1b4b8f6-8771-47d6-8811-76890519355f",
   "metadata": {},
   "outputs": [],
   "source": [
    "tips"
   ]
  },
  {
   "cell_type": "markdown",
   "id": "17052b48-12dc-46ce-a6c9-4eda6e9581e1",
   "metadata": {},
   "source": [
    "### i am using total_bill and tip and plotting a scatter plot\n"
   ]
  },
  {
   "cell_type": "code",
   "execution_count": null,
   "id": "22c25237-cd1c-49ee-b461-ebe88c27df63",
   "metadata": {},
   "outputs": [],
   "source": [
    "plt.scatter(tips['tip'],tips['total_bill'])"
   ]
  },
  {
   "cell_type": "markdown",
   "id": "7bf3e4b4-318d-4701-bf86-2cf30556944f",
   "metadata": {},
   "source": [
    "### We can also add another piece of information in it there is a Parameter 's' in this we can put size"
   ]
  },
  {
   "cell_type": "code",
   "execution_count": null,
   "id": "92b765a0-8a42-43c7-bee2-2d11612d111c",
   "metadata": {},
   "outputs": [],
   "source": [
    "plt.scatter(tips['tip'],tips['total_bill'],s=tips['size']*20)"
   ]
  },
  {
   "cell_type": "markdown",
   "id": "c3bee9a3-ba1f-46e6-a349-4229bebb5cb5",
   "metadata": {},
   "source": [
    "### Scatter Plot using plt.plot"
   ]
  },
  {
   "cell_type": "code",
   "execution_count": null,
   "id": "9d6d24bd-0350-48b8-8bfc-55c849307f7a",
   "metadata": {},
   "outputs": [],
   "source": [
    "## this is the  than scatter\n",
    "\n",
    "plt.plot(tips['total_bill'],tips['tip'],'o')"
   ]
  },
  {
   "cell_type": "markdown",
   "id": "b5430785-6ffd-4f32-ae26-83a049426327",
   "metadata": {},
   "source": [
    "# Bar Chart"
   ]
  },
  {
   "cell_type": "markdown",
   "id": "bd7a53fa-1681-4bda-8670-91a050aae118",
   "metadata": {},
   "source": [
    "## we put categorical data on x-axis and we apply aggregate function ono y-axis. bi-variate and uni-variate analysis generally we use it for car-num aggregate  analysis of group"
   ]
  },
  {
   "cell_type": "markdown",
   "id": "185c8734-5ba8-416a-9584-1926dd329795",
   "metadata": {},
   "source": [
    "### Barchart of simple data"
   ]
  },
  {
   "cell_type": "code",
   "execution_count": null,
   "id": "3a12e6a5-4cb2-488d-bbca-9e86d0337262",
   "metadata": {},
   "outputs": [],
   "source": [
    "child = [10,20,40,10,30]\n",
    "colors = ['red','blue','green','yellow','pink']\n",
    "\n",
    "plt.bar(colors,child)"
   ]
  },
  {
   "cell_type": "markdown",
   "id": "ca0d4cd5-fe5e-4c34-9e52-07e5493ba05e",
   "metadata": {},
   "source": [
    "### Bar char using proper data \n"
   ]
  },
  {
   "cell_type": "markdown",
   "id": "c8984102-a468-432e-9b2e-d786d4bbc51d",
   "metadata": {},
   "source": [
    "### Horizontal bar chart"
   ]
  },
  {
   "cell_type": "code",
   "execution_count": null,
   "id": "2ad6d4b0-ab45-4fd1-a2cc-6535beebf410",
   "metadata": {},
   "outputs": [],
   "source": [
    "child = [10,20,40,10,30]\n",
    "colors = ['red','blue','green','yellow','pink']\n",
    "\n",
    "plt.barh(colors,child)"
   ]
  },
  {
   "cell_type": "markdown",
   "id": "0b937608-0ebd-4822-86d3-6969097110e8",
   "metadata": {},
   "source": [
    "### Multiple Bar Charts"
   ]
  },
  {
   "cell_type": "code",
   "execution_count": null,
   "id": "cc66d9bb-4a7f-438a-a1e5-83c3c7e18cb4",
   "metadata": {},
   "outputs": [],
   "source": [
    "batsman.head()"
   ]
  },
  {
   "cell_type": "code",
   "execution_count": null,
   "id": "729074e3-fea1-4110-be37-598fed866bb4",
   "metadata": {},
   "outputs": [],
   "source": [
    "batsman"
   ]
  },
  {
   "cell_type": "code",
   "execution_count": null,
   "id": "3c36c282-5534-428b-838e-d6c2e435021c",
   "metadata": {},
   "outputs": [],
   "source": [
    "plt.bar(np.arange(batsman.shape[0])-0.2,batsman['RG Sharma'],width=0.2,label='Sharma')\n",
    "plt.bar(np.arange(batsman.shape[0]),batsman['V Kohli'],width=0.2,label='kohli')\n",
    "plt.bar(np.arange(batsman.shape[0])+0.2,batsman['RG Sharma'],width=0.2)\n",
    "plt.xticks(np.arange(batsman.shape[0]),batsman['index'])\n",
    "plt.legend()\n"
   ]
  },
  {
   "cell_type": "code",
   "execution_count": null,
   "id": "9b83164f-0bcd-4106-b16c-7892b556b266",
   "metadata": {},
   "outputs": [],
   "source": [
    "# ## plotting side by side bar plot  in matplotlib is confusing and tough task\n",
    "# plt.bar(np.arange(batsman.shape[0])-0.2,batsman['RG Sharma'],width=0.2)\n",
    "# plt.bar(np.arange(batsman.shape[0]),batsman['V Kohli'],width=0.2)\n",
    "# plt.bar(np.arange(batsman.shape[0])+0.2,batsman['RG Sharma'],width=0.2)\n",
    "# plt.xticks(np.arange(batsman.shape[0]),batsman['index'])\n"
   ]
  },
  {
   "cell_type": "markdown",
   "id": "704f7425-fecc-4b68-99da-1223628ef706",
   "metadata": {},
   "source": [
    "### Problem"
   ]
  },
  {
   "cell_type": "code",
   "execution_count": null,
   "id": "4c2cde64-a5d9-459a-bd89-6e40011395c9",
   "metadata": {},
   "outputs": [],
   "source": [
    "child = [10,20,40,10,30]\n",
    "colors = ['red red red red red','blue blue blue blue blue','green green green green green','yellow yellow yellow yellow yellow','pink pink pink pink pink']\n",
    "\n",
    "plt.bar(colors,child)\n",
    "plt.xticks(rotation='vertical')\n",
    "plt.show()"
   ]
  },
  {
   "cell_type": "markdown",
   "id": "9d9d2476-3dae-4b06-80d6-7e963118b2de",
   "metadata": {},
   "source": [
    "### Stacked Bar Chart"
   ]
  },
  {
   "cell_type": "code",
   "execution_count": null,
   "id": "be0d903c-3bb4-4d26-bb17-86d3e7bedc1a",
   "metadata": {},
   "outputs": [],
   "source": [
    "batsman"
   ]
  },
  {
   "cell_type": "code",
   "execution_count": null,
   "id": "4260c68e-5bff-495f-8ba4-563975f554c3",
   "metadata": {},
   "outputs": [],
   "source": [
    "# plt.bar(batsman['index'],batsman['RG Sharma'])\n",
    "# plt.bar(batsman['index'],batsman['V Kohli'],bottom=batsman['RG Sharma'])\n",
    "plt.bar(batsman['index'],batsman['RG Sharma'],label='Sharma')\n",
    "plt.bar(batsman['index'],batsman['V Kohli'],bottom=batsman['RG Sharma'],label='Kohli')\n",
    "plt.legend()"
   ]
  },
  {
   "cell_type": "markdown",
   "id": "a64bd3a0-8cc6-4fa4-ab39-8163453e9754",
   "metadata": {},
   "source": [
    "# Histogram"
   ]
  },
  {
   "cell_type": "markdown",
   "id": "fdfe660b-26e7-4791-87db-428e0407681e",
   "metadata": {},
   "source": [
    "## Use for univaraite analysis use only for numerical data its for numerical , its help to find frequency count"
   ]
  },
  {
   "cell_type": "markdown",
   "id": "0a0d8d6b-83ff-47fe-bcfa-904c9e0e2137",
   "metadata": {},
   "source": [
    "### Simple Example"
   ]
  },
  {
   "cell_type": "code",
   "execution_count": null,
   "id": "4f8199ea-bc8d-467e-8a8d-05eaa8967794",
   "metadata": {},
   "outputs": [],
   "source": [
    "X = [32,45,56,10,15,27,61]\n",
    "plt.hist(X,bins=[10,25,40,55,70])"
   ]
  },
  {
   "cell_type": "markdown",
   "id": "e1958e66-03f2-44bc-8801-88e84bb3f83d",
   "metadata": {},
   "source": [
    "### On Proper dataset"
   ]
  },
  {
   "cell_type": "code",
   "execution_count": null,
   "id": "5afe4323-06b2-4464-b964-a62b32d0321e",
   "metadata": {},
   "outputs": [],
   "source": [
    "VK = pd.read_csv('../Datasets/vk.csv')"
   ]
  },
  {
   "cell_type": "code",
   "execution_count": null,
   "id": "98a984cb-666b-4955-a2a7-2e094935eb89",
   "metadata": {},
   "outputs": [],
   "source": [
    "VK"
   ]
  },
  {
   "cell_type": "code",
   "execution_count": null,
   "id": "175e16ee-8fca-434b-bc22-e3affada58b9",
   "metadata": {},
   "outputs": [],
   "source": [
    "plt.hist(VK['batsman_runs'],bins=[0,10,20,30,40,50,60,70,80,90,100,110,120])\n",
    "plt.show()"
   ]
  },
  {
   "cell_type": "markdown",
   "id": "7ab5fabd-b7f4-4fcc-81b9-e1b3729c0324",
   "metadata": {},
   "source": [
    "### Logarithmic Scale"
   ]
  },
  {
   "cell_type": "code",
   "execution_count": null,
   "id": "0870c99f-8c70-4f29-a7a4-b22199634455",
   "metadata": {},
   "outputs": [],
   "source": [
    "## there is parameter like log make it True"
   ]
  },
  {
   "cell_type": "markdown",
   "id": "2121efbb-af21-420d-b50d-6334ef899f8b",
   "metadata": {},
   "source": [
    "# Pie Chart"
   ]
  },
  {
   "cell_type": "markdown",
   "id": "7f7219d0-dc57-44cd-b448-a571d73fad79",
   "metadata": {},
   "source": [
    "### Basically plot it on category data it tells us the which quantity has how much percentage out of 100, can be used cat-cat and num-cat, usecase is to find contribution on a standard scale"
   ]
  },
  {
   "cell_type": "markdown",
   "id": "7271db5f-b453-42d5-ae18-12b529e32b90",
   "metadata": {},
   "source": [
    "### Simple Data"
   ]
  },
  {
   "cell_type": "code",
   "execution_count": null,
   "id": "d6edb920-d7d6-420f-a435-d84df93b6c45",
   "metadata": {},
   "outputs": [],
   "source": [
    "data = [23,45,100,20,49]\n",
    "subjects = ['eng','sci','maths','sst','urdu']\n",
    "plt.pie(data,labels=subjects)\n",
    "plt.show()"
   ]
  },
  {
   "cell_type": "markdown",
   "id": "41786343-4001-429d-bf75-1504436ada85",
   "metadata": {},
   "source": [
    "### On Proper Dataste"
   ]
  },
  {
   "cell_type": "code",
   "execution_count": null,
   "id": "f0280d30-e595-4181-a761-9f628c5e51f8",
   "metadata": {},
   "outputs": [],
   "source": [
    "gayle = pd.read_csv('../Datasets/gayle-175.csv')"
   ]
  },
  {
   "cell_type": "code",
   "execution_count": null,
   "id": "b58cfe38-c130-400e-895c-0c9e2cb1376e",
   "metadata": {},
   "outputs": [],
   "source": [
    "gayle.head()"
   ]
  },
  {
   "cell_type": "code",
   "execution_count": null,
   "id": "9b7539a2-66c5-4152-895d-2a7a5f0ed564",
   "metadata": {},
   "outputs": [],
   "source": [
    "gayle"
   ]
  },
  {
   "cell_type": "code",
   "execution_count": null,
   "id": "112d8016-0598-41d2-8a2d-0800db70536a",
   "metadata": {},
   "outputs": [],
   "source": [
    "plt.pie(gayle['batsman_runs'],labels=gayle['batsman'])\n",
    "plt.show()"
   ]
  },
  {
   "cell_type": "markdown",
   "id": "70ac43e2-2e5d-4078-874b-2f831702e4ad",
   "metadata": {},
   "source": [
    "### For percentage"
   ]
  },
  {
   "cell_type": "code",
   "execution_count": null,
   "id": "f2111978-b921-4ebc-b99b-0db40038e948",
   "metadata": {},
   "outputs": [],
   "source": [
    "plt.pie(gayle['batsman_runs'],labels=gayle['batsman'],autopct='%0.1f%%')\n",
    "plt.show()"
   ]
  },
  {
   "cell_type": "markdown",
   "id": "c7830274-3369-40a3-9228-03b0eb73b203",
   "metadata": {},
   "source": [
    "### We can specify colors\n"
   ]
  },
  {
   "cell_type": "code",
   "execution_count": null,
   "id": "c715f4f9-a91f-4c0b-86ff-90f83eb3697f",
   "metadata": {},
   "outputs": [],
   "source": [
    "plt.pie(gayle['batsman_runs'],labels=gayle['batsman'],autopct='%0.1f%%',colors=['red','green','blue','pink','yellow','cyan'])\n",
    "plt.show()"
   ]
  },
  {
   "cell_type": "markdown",
   "id": "64614c03-387e-453f-80d1-336498083dea",
   "metadata": {},
   "source": [
    "### Explode Shadow"
   ]
  },
  {
   "cell_type": "code",
   "execution_count": null,
   "id": "0b545283-fa5f-466a-9b65-2f318545d34f",
   "metadata": {},
   "outputs": [],
   "source": [
    "plt.pie(gayle['batsman_runs'],labels=gayle['batsman'],autopct='%0.1f%%',explode=[0.1,0,0,0,0,0],shadow=True)\n",
    "plt.show()"
   ]
  },
  {
   "cell_type": "markdown",
   "id": "064bbdcd-01c2-48b1-a055-4d9f657d3087",
   "metadata": {},
   "source": [
    "### Changing Styles"
   ]
  },
  {
   "cell_type": "code",
   "execution_count": null,
   "id": "3496ad03-d2e1-4c45-90e0-74fad0a24bbe",
   "metadata": {},
   "outputs": [],
   "source": [
    "plt.style.available"
   ]
  },
  {
   "cell_type": "markdown",
   "id": "7a1d079d-38de-4d79-bfbc-ec5e452a608e",
   "metadata": {},
   "source": [
    "### Save Figure"
   ]
  },
  {
   "cell_type": "code",
   "execution_count": null,
   "id": "2ecb6f99-3b8b-41dd-8323-fa702f860db4",
   "metadata": {},
   "outputs": [],
   "source": [
    "## just write plt.savefig('name') and run the graph will be saved\n"
   ]
  },
  {
   "cell_type": "markdown",
   "id": "97337199-b8ed-48e6-82f1-18a261605477",
   "metadata": {},
   "source": [
    "### Checkout on Matplotlib Documentation"
   ]
  },
  {
   "cell_type": "code",
   "execution_count": null,
   "id": "d56acd7f-626f-4ed3-97b8-3959c055eda9",
   "metadata": {},
   "outputs": [],
   "source": []
  }
 ],
 "metadata": {
  "kernelspec": {
   "display_name": "Python [conda env:base] *",
   "language": "python",
   "name": "conda-base-py"
  },
  "language_info": {
   "codemirror_mode": {
    "name": "ipython",
    "version": 3
   },
   "file_extension": ".py",
   "mimetype": "text/x-python",
   "name": "python",
   "nbconvert_exporter": "python",
   "pygments_lexer": "ipython3",
   "version": "3.12.7"
  }
 },
 "nbformat": 4,
 "nbformat_minor": 5
}
